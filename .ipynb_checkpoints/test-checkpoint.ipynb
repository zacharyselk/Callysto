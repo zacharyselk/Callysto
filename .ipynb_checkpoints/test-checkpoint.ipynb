{
 "cells": [
  {
   "cell_type": "markdown",
   "metadata": {},
   "source": [
    "# Header 1 Changed by Rajib\n",
    "## Header 2 Second Commit \n",
    "### Header 3\n",
    "#### Header 4\n",
    "##### Header 5\n",
    "###### Header 6\n",
    "\n",
    "\n",
    "To make italics, use _one underscore_ or *one asterisk*\n",
    "To make bold, use __two underscores__ or **two asterisks**\n",
    "Combine the two with a mix between __underscores and *asterisks*__\n",
    "\n",
    "\n",
    "To crossout, use two tildas ~~crossout~~\n",
    "\n",
    "https://www.google.com \"Google's Homepage\""
   ]
  }
 ],
 "metadata": {
  "kernelspec": {
   "display_name": "Python 3",
   "language": "python",
   "name": "python3"
  },
  "language_info": {
   "codemirror_mode": {
    "name": "ipython",
    "version": 3
   },
   "file_extension": ".py",
   "mimetype": "text/x-python",
   "name": "python",
   "nbconvert_exporter": "python",
   "pygments_lexer": "ipython3",
   "version": "3.6.4"
  }
 },
 "nbformat": 4,
 "nbformat_minor": 2
}
